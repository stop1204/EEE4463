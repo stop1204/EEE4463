{
 "cells": [
  {
   "cell_type": "markdown",
   "id": "8a77807f92f26ee",
   "metadata": {},
   "source": [
    "# This is a sample for Jupyter Notebook"
   ]
  },
  {
   "cell_type": "code",
   "execution_count": 1,
   "id": "fbc121e30a2defb3",
   "metadata": {
    "ExecuteTime": {
     "end_time": "2025-01-13T04:17:40.582321Z",
     "start_time": "2025-01-13T04:17:40.205209Z"
    }
   },
   "outputs": [
    {
     "name": "stdout",
     "output_type": "stream",
     "text": [
      "Hello, Jupyter Notebook\n",
      "Python 3.12.4\n",
      "ERROR: unknown command \"numpy\"\n"
     ]
    }
   ],
   "source": [
    "print(\"Hello, Jupyter Notebook\")\n",
    "# print the python version\n",
    "!python --version\n",
    "!pip numpy --version"
   ]
  },
  {
   "cell_type": "code",
   "execution_count": null,
   "id": "e23a214d-d317-4f84-8b31-fb822eca0d10",
   "metadata": {},
   "outputs": [],
   "source": []
  },
  {
   "cell_type": "code",
   "execution_count": 2,
   "id": "d2da161d286b463d",
   "metadata": {
    "ExecuteTime": {
     "end_time": "2025-01-13T04:18:48.352445Z",
     "start_time": "2025-01-13T04:18:48.349731Z"
    }
   },
   "outputs": [
    {
     "name": "stdout",
     "output_type": "stream",
     "text": [
      "1.26.4\n"
     ]
    }
   ],
   "source": [
    "import numpy as np\n",
    "print(np.__version__)"
   ]
  },
  {
   "cell_type": "code",
   "execution_count": 3,
   "id": "b2b950df0c1cd7e7",
   "metadata": {
    "ExecuteTime": {
     "end_time": "2025-01-13T04:18:19.613534Z",
     "start_time": "2025-01-13T04:18:19.611466Z"
    }
   },
   "outputs": [
    {
     "name": "stdout",
     "output_type": "stream",
     "text": [
      "2.2.3\n"
     ]
    }
   ],
   "source": [
    "import pandas as pd\n",
    "print(pd.__version__)"
   ]
  },
  {
   "cell_type": "code",
   "execution_count": 4,
   "id": "b531911a84ded1cd",
   "metadata": {
    "ExecuteTime": {
     "end_time": "2025-01-13T04:18:44.433254Z",
     "start_time": "2025-01-13T04:18:44.430187Z"
    }
   },
   "outputs": [
    {
     "name": "stdout",
     "output_type": "stream",
     "text": [
      "3.10.0\n"
     ]
    }
   ],
   "source": [
    "import matplotlib as plt\n",
    "print(plt.__version__)"
   ]
  },
  {
   "cell_type": "code",
   "execution_count": null,
   "id": "8b88d1d9-3e43-46f9-b87d-cc5029277a3d",
   "metadata": {},
   "outputs": [],
   "source": []
  }
 ],
 "metadata": {
  "kernelspec": {
   "display_name": "Python 3 (ipykernel)",
   "language": "python",
   "name": "python3"
  },
  "language_info": {
   "codemirror_mode": {
    "name": "ipython",
    "version": 3
   },
   "file_extension": ".py",
   "mimetype": "text/x-python",
   "name": "python",
   "nbconvert_exporter": "python",
   "pygments_lexer": "ipython3",
   "version": "3.12.4"
  }
 },
 "nbformat": 4,
 "nbformat_minor": 5
}
