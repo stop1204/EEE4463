{
 "cells": [
  {
   "metadata": {},
   "cell_type": "markdown",
   "source": "# This is a sample for Jupyter Notebook",
   "id": "8a77807f92f26ee"
  },
  {
   "metadata": {
    "ExecuteTime": {
     "end_time": "2025-01-13T04:17:40.582321Z",
     "start_time": "2025-01-13T04:17:40.205209Z"
    }
   },
   "cell_type": "code",
   "source": [
    "print(\"Hello, Jupyter Notebook\")\n",
    "# print the python version\n",
    "!python --version\n",
    "!pip numpy --version"
   ],
   "id": "fbc121e30a2defb3",
   "outputs": [
    {
     "name": "stdout",
     "output_type": "stream",
     "text": [
      "Hello, Jupyter Notebook\n",
      "Python 3.12.4\r\n",
      "ERROR: unknown command \"numpy\"\r\n"
     ]
    }
   ],
   "execution_count": 14
  },
  {
   "metadata": {
    "ExecuteTime": {
     "end_time": "2025-01-13T04:18:48.352445Z",
     "start_time": "2025-01-13T04:18:48.349731Z"
    }
   },
   "cell_type": "code",
   "source": [
    "import numpy as np\n",
    "print(np.__version__)"
   ],
   "id": "d2da161d286b463d",
   "outputs": [
    {
     "name": "stdout",
     "output_type": "stream",
     "text": [
      "1.26.4\n"
     ]
    }
   ],
   "execution_count": 19
  },
  {
   "metadata": {
    "ExecuteTime": {
     "end_time": "2025-01-13T04:18:19.613534Z",
     "start_time": "2025-01-13T04:18:19.611466Z"
    }
   },
   "cell_type": "code",
   "source": [
    "import pandas as pd\n",
    "print(pd.__version__)"
   ],
   "id": "b2b950df0c1cd7e7",
   "outputs": [
    {
     "name": "stdout",
     "output_type": "stream",
     "text": [
      "2.2.2\n"
     ]
    }
   ],
   "execution_count": 16
  },
  {
   "metadata": {
    "ExecuteTime": {
     "end_time": "2025-01-13T04:18:44.433254Z",
     "start_time": "2025-01-13T04:18:44.430187Z"
    }
   },
   "cell_type": "code",
   "source": [
    "import matplotlib as plt\n",
    "print(plt.__version__)"
   ],
   "id": "b531911a84ded1cd",
   "outputs": [
    {
     "name": "stdout",
     "output_type": "stream",
     "text": [
      "3.10.0\n"
     ]
    }
   ],
   "execution_count": 18
  }
 ],
 "metadata": {
  "kernelspec": {
   "display_name": "Python 3",
   "language": "python",
   "name": "python3"
  },
  "language_info": {
   "codemirror_mode": {
    "name": "ipython",
    "version": 2
   },
   "file_extension": ".py",
   "mimetype": "text/x-python",
   "name": "python",
   "nbconvert_exporter": "python",
   "pygments_lexer": "ipython2",
   "version": "2.7.6"
  }
 },
 "nbformat": 4,
 "nbformat_minor": 5
}
