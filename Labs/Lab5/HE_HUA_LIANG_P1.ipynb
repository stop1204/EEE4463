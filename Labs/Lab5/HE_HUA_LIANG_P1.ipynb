{
 "cells": [
  {
   "cell_type": "markdown",
   "id": "df621ee6ab6548f9",
   "metadata": {},
   "source": [
    "# Program 1 (P1) – Printing stars\n",
    "Here is the link to the latest code on GitHub: [Lab 5](https://github.com/stop1204/EEE4463/tree/main/Labs/Lab5) 😎\n",
    "\n",
    "😎this program will print the stars depending on the number by the user inputs\n",
    "\n",
    "😎and this program can handle any invalid input and unknown error\n"
   ]
  },
  {
   "cell_type": "code",
   "execution_count": 1,
   "id": "ffd4eb1dc014fe90",
   "metadata": {
    "ExecuteTime": {
     "end_time": "2025-01-20T12:47:17.560448Z",
     "start_time": "2025-01-20T12:47:17.558004Z"
    }
   },
   "outputs": [],
   "source": [
    "# \"\"\"\n",
    "# example:\n",
    "# How many stars are needed (int): 5\n",
    "# 1-sided or 2-sided (1 or 2): 2\n",
    "# *\n",
    "# **\n",
    "# ***\n",
    "# ****\n",
    "# *****\n",
    "# ****\n",
    "# ***\n",
    "# **\n",
    "# *\n",
    "# \"\"\""
   ]
  },
  {
   "cell_type": "markdown",
   "id": "68fbaeab666853a2",
   "metadata": {},
   "source": [
    "## Functions\n",
    "this function prints '*' depending on the number by the user inputs"
   ]
  },
  {
   "cell_type": "code",
   "execution_count": 2,
   "id": "6007050a6af9eb35",
   "metadata": {
    "ExecuteTime": {
     "end_time": "2025-01-20T12:47:17.572806Z",
     "start_time": "2025-01-20T12:47:17.570431Z"
    }
   },
   "outputs": [],
   "source": [
    "from IPython.core.display_functions import clear_output\n",
    "\n",
    "\n",
    "def print_star(num, side=1):\n",
    "    \"\"\"\n",
    "    this function prints '*' depending on the number by the user inputs\n",
    "    :param num: max number of '*' to be printed in a line\n",
    "    :type num: int\n",
    "    :param side: 1 / 2 ,1-sided or 2-sided, default 1\n",
    "    :type side: int\n",
    "    \"\"\"\n",
    "\n",
    "    for i in range(num):\n",
    "        print(\"*\" * (i + 1),flush=False)\n",
    "    if side == 2:\n",
    "        for i in range(num - 1):\n",
    "            print(\"*\" * (num - i - 1),flush=False)\n",
    "\n"
   ]
  },
  {
   "cell_type": "markdown",
   "id": "c0682c2f07504bc1",
   "metadata": {},
   "source": [
    "## Test Functions\n"
   ]
  },
  {
   "cell_type": "code",
   "execution_count": 3,
   "id": "c047289ce86c46ab",
   "metadata": {
    "ExecuteTime": {
     "end_time": "2025-01-20T12:47:17.578156Z",
     "start_time": "2025-01-20T12:47:17.576500Z"
    }
   },
   "outputs": [
    {
     "name": "stdout",
     "output_type": "stream",
     "text": [
      "*\n",
      "**\n",
      "***\n",
      "****\n",
      "*****\n",
      "****\n",
      "***\n",
      "**\n",
      "*\n"
     ]
    }
   ],
   "source": [
    "print_star(5, 2)\n"
   ]
  },
  {
   "cell_type": "code",
   "execution_count": 4,
   "id": "c76c773eaa6866e0",
   "metadata": {
    "ExecuteTime": {
     "end_time": "2025-01-20T12:47:17.591832Z",
     "start_time": "2025-01-20T12:47:17.590102Z"
    }
   },
   "outputs": [
    {
     "name": "stdout",
     "output_type": "stream",
     "text": [
      "*\n",
      "**\n",
      "***\n",
      "****\n",
      "*****\n",
      "******\n",
      "*******\n",
      "********\n"
     ]
    }
   ],
   "source": [
    "print_star(8,1)"
   ]
  },
  {
   "cell_type": "markdown",
   "id": "371603881a65d5e6",
   "metadata": {},
   "source": [
    "## Main Functions"
   ]
  },
  {
   "cell_type": "code",
   "execution_count": 5,
   "id": "bafedc15104dcbd7",
   "metadata": {
    "ExecuteTime": {
     "end_time": "2025-01-20T12:47:17.609402Z",
     "start_time": "2025-01-20T12:47:17.607484Z"
    }
   },
   "outputs": [],
   "source": [
    "def main():\n",
    "        try:\n",
    "            # clear the output when the user input the new number\n",
    "            clear_output(wait=True)\n",
    "            \n",
    "            num = int(input(\"How many stars are needed (int): \"))\n",
    "            if num < 0:\n",
    "                raise ValueError\n",
    "            side = int(input(\"1-sided or 2-sided (1 or 2): \"))\n",
    "            if side != 1 and side != 2:\n",
    "                raise ValueError\n",
    "            print_star(num, side)\n",
    "\n",
    "\n",
    "        except ValueError:\n",
    "            print(\"Invalid input\")\n",
    "        except Exception as e:\n",
    "            print(\"Unknown error\", e)\n",
    "\n"
   ]
  },
  {
   "cell_type": "code",
   "execution_count": null,
   "id": "32c787cae2131d7b",
   "metadata": {},
   "outputs": [
    {
     "name": "stdin",
     "output_type": "stream",
     "text": [
      "How many stars are needed (int):  5\n",
      "1-sided or 2-sided (1 or 2):  2\n"
     ]
    },
    {
     "name": "stdout",
     "output_type": "stream",
     "text": [
      "*\n",
      "**\n",
      "***\n",
      "****\n",
      "*****\n",
      "****\n",
      "***\n",
      "**\n",
      "*\n"
     ]
    }
   ],
   "source": [
    "# if cancel the input, the program will stop, be sure can handler the keyboardInterrupt\n",
    "try:\n",
    "    while True:\n",
    "        main()\n",
    "except KeyboardInterrupt:\n",
    "    print(\"Program stopped\")\n"
   ]
  },
  {
   "cell_type": "markdown",
   "id": "82755251dc0aaceb",
   "metadata": {},
   "source": []
  }
 ],
 "metadata": {
  "kernelspec": {
   "display_name": "Python 3 (ipykernel)",
   "language": "python",
   "name": "python3"
  },
  "language_info": {
   "codemirror_mode": {
    "name": "ipython",
    "version": 3
   },
   "file_extension": ".py",
   "mimetype": "text/x-python",
   "name": "python",
   "nbconvert_exporter": "python",
   "pygments_lexer": "ipython3",
   "version": "3.12.4"
  }
 },
 "nbformat": 4,
 "nbformat_minor": 9
}
