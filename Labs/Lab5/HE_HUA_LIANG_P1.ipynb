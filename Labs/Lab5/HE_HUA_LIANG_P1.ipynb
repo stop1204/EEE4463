{
 "cells": [
  {
   "metadata": {},
   "cell_type": "markdown",
   "source": "# Program 1 (P1) – Printing stars",
   "id": "df621ee6ab6548f9"
  },
  {
   "metadata": {
    "ExecuteTime": {
     "end_time": "2025-01-14T14:20:14.292699Z",
     "start_time": "2025-01-14T14:20:14.290004Z"
    }
   },
   "cell_type": "code",
   "source": [
    "# \"\"\"\n",
    "# example:\n",
    "# How many stars are needed (int): 5\n",
    "# 1-sided or 2-sided (1 or 2): 2\n",
    "# *\n",
    "# **\n",
    "# ***\n",
    "# ****\n",
    "# *****\n",
    "# ****\n",
    "# ***\n",
    "# **\n",
    "# *\n",
    "# \"\"\""
   ],
   "id": "ffd4eb1dc014fe90",
   "outputs": [],
   "execution_count": 1
  },
  {
   "metadata": {},
   "cell_type": "markdown",
   "source": [
    "## Functions\n",
    "this function prints '*' depending on the number by the user inputs"
   ],
   "id": "68fbaeab666853a2"
  },
  {
   "metadata": {
    "ExecuteTime": {
     "end_time": "2025-01-14T14:20:14.297685Z",
     "start_time": "2025-01-14T14:20:14.295648Z"
    }
   },
   "cell_type": "code",
   "source": [
    "def print_star(num, side=1):\n",
    "    \"\"\"\n",
    "    this function prints '*' depending on the number by the user inputs\n",
    "    :param num: max number of '*' to be printed in a line\n",
    "    :type num: int\n",
    "    :param side: 1 / 2 ,1-sided or 2-sided, default 1\n",
    "    :type side: int\n",
    "    \"\"\"\n",
    "\n",
    "    for i in range(num):\n",
    "        print(\"*\" * (i + 1))\n",
    "    if side == 2:\n",
    "        for i in range(num - 1):\n",
    "            print(\"*\" * (num - i - 1))\n",
    "\n"
   ],
   "id": "6007050a6af9eb35",
   "outputs": [],
   "execution_count": 2
  },
  {
   "metadata": {},
   "cell_type": "markdown",
   "source": "## Main Functions",
   "id": "c0682c2f07504bc1"
  },
  {
   "metadata": {
    "ExecuteTime": {
     "end_time": "2025-01-14T14:21:20.496195Z",
     "start_time": "2025-01-14T14:21:17.869392Z"
    }
   },
   "cell_type": "code",
   "source": [
    "def main():\n",
    "    # while True:\n",
    "    try:\n",
    "        num = int(input(\"How many stars are needed (int): \"))\n",
    "        side = int(input(\"1-sided or 2-sided (1 or 2): \"))\n",
    "        if side != 1 and side != 2:\n",
    "            raise ValueError\n",
    "        print_star(num, side)\n",
    "    except ValueError:\n",
    "        print(\"Invalid input\")\n",
    "    except Exception as e:\n",
    "        print(\"Unknown error\", e)\n",
    "main()"
   ],
   "id": "bafedc15104dcbd7",
   "outputs": [
    {
     "name": "stdout",
     "output_type": "stream",
     "text": [
      "*\n",
      "**\n",
      "***\n"
     ]
    }
   ],
   "execution_count": 4
  },
  {
   "metadata": {},
   "cell_type": "markdown",
   "source": "# Test Functions",
   "id": "82755251dc0aaceb"
  },
  {
   "metadata": {
    "ExecuteTime": {
     "end_time": "2025-01-14T14:20:14.335226Z",
     "start_time": "2025-01-14T14:17:57.062191Z"
    }
   },
   "cell_type": "code",
   "source": "print_star(5, 2)",
   "id": "c047289ce86c46ab",
   "outputs": [
    {
     "name": "stdout",
     "output_type": "stream",
     "text": [
      "*\n",
      "**\n",
      "***\n",
      "****\n",
      "*****\n",
      "****\n",
      "***\n",
      "**\n",
      "*\n"
     ]
    }
   ],
   "execution_count": 4
  },
  {
   "metadata": {
    "ExecuteTime": {
     "end_time": "2025-01-14T14:20:14.335843Z",
     "start_time": "2025-01-14T14:17:57.082612Z"
    }
   },
   "cell_type": "code",
   "source": "print_star(8,1)",
   "id": "c76c773eaa6866e0",
   "outputs": [
    {
     "name": "stdout",
     "output_type": "stream",
     "text": [
      "*\n",
      "**\n",
      "***\n",
      "****\n",
      "*****\n",
      "******\n",
      "*******\n",
      "********\n"
     ]
    }
   ],
   "execution_count": 5
  }
 ],
 "metadata": {
  "kernelspec": {
   "name": "python3",
   "language": "python",
   "display_name": "Python 3 (ipykernel)"
  }
 },
 "nbformat": 5,
 "nbformat_minor": 9
}
