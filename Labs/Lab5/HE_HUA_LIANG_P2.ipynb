{
 "cells": [
  {
   "metadata": {},
   "cell_type": "markdown",
   "source": [
    "# Problem 2\n",
    "Here is the link to the latest code on GitHub: [Lab 5](https://github.com/stop1204/EEE4463/tree/main/Labs/Lab5) 😎\n",
    "\n",
    "The coefficients of several quadratic equations (𝑎𝑥 + 𝑏𝑥 + 𝑐 = 0) are given in the CSV file ‘abc_lab5_p2_input.csv’"
   ],
   "id": "6788737e9dedf702"
  },
  {
   "metadata": {},
   "cell_type": "markdown",
   "source": "## Functions",
   "id": "a9ca19a52866e957"
  },
  {
   "metadata": {},
   "cell_type": "markdown",
   "source": "### Read csv file and return the content as list",
   "id": "2978004103b821fd"
  },
  {
   "metadata": {
    "ExecuteTime": {
     "end_time": "2025-01-14T15:08:00.141466Z",
     "start_time": "2025-01-14T15:08:00.138796Z"
    }
   },
   "cell_type": "code",
   "source": [
    "\"\"\"\n",
    "The coefficients of several quadratic equations (𝑎𝑥 + 𝑏𝑥 + 𝑐 = 0) are given in the CSV file\n",
    "‘abc_lab5_p2_input.csv’\n",
    "\n",
    "\"\"\"\n",
    "import cmath\n",
    "import math\n",
    "\n",
    "\n",
    "def read_csv(path):\n",
    "    \"\"\"\n",
    "    read csv file and return the content as list\n",
    "    :param path: path to the csv file\n",
    "    :type path: str\n",
    "    :return: csv file content\n",
    "    :rtype: list\n",
    "    \"\"\"\n",
    "    if not path.endswith(\".csv\"):\n",
    "        raise ValueError(\"Invalid file format\")\n",
    "    with open(path, \"r\") as f:\n",
    "        lines = f.readlines()\n",
    "    return lines"
   ],
   "id": "186faf0aa36fa6a6",
   "outputs": [],
   "execution_count": 70
  },
  {
   "metadata": {},
   "cell_type": "markdown",
   "source": "### Find the max column width in the each column",
   "id": "35eda2bfa5298112"
  },
  {
   "metadata": {
    "ExecuteTime": {
     "end_time": "2025-01-14T15:08:00.147464Z",
     "start_time": "2025-01-14T15:08:00.145490Z"
    }
   },
   "cell_type": "code",
   "source": [
    "def get_max_col_width(lines, sep=\",\"):\n",
    "    \"\"\"\n",
    "    find the max column width in the each column\n",
    "    at least (max length + 2) spaces between each column\n",
    "    :param lines: csv file content\n",
    "    :type lines: list\n",
    "    :param sep: separator symbol, default \",\"\n",
    "    :type sep: int\n",
    "    :return: max column width\n",
    "    :rtype: int\n",
    "    \"\"\"\n",
    "    max_col_width = 4\n",
    "    for line in lines:\n",
    "        cols = line.strip().split(sep)\n",
    "        for i, column in enumerate(cols):\n",
    "            if len(column) > max_col_width:\n",
    "                max_col_width = len(column)\n",
    "\n",
    "    return max_col_width + 2\n"
   ],
   "id": "1e1bc7aa080faaf3",
   "outputs": [],
   "execution_count": 71
  },
  {
   "metadata": {},
   "cell_type": "markdown",
   "source": "### Print the csv file content in a pretty format",
   "id": "865602cfbade31fa"
  },
  {
   "metadata": {
    "ExecuteTime": {
     "end_time": "2025-01-14T15:08:00.153595Z",
     "start_time": "2025-01-14T15:08:00.151598Z"
    }
   },
   "cell_type": "code",
   "source": [
    "\n",
    "def print_pretty_csv(lines, col_width=8, sep=\",\"):\n",
    "    \"\"\"n\n",
    "    print the csv file content in a pretty format\n",
    "    :param lines: csv data\n",
    "    :type lines: list\n",
    "    :param col_width: column width, default 8\n",
    "    :type col_width: int\n",
    "    :param sep: separator symbol, default \",\"\n",
    "    :type sep: str\n",
    "    \"\"\"\n",
    "    # if is list\n",
    "    for line in lines:\n",
    "        cols = line.strip().split(sep)\n",
    "        for i, column in enumerate(cols):\n",
    "            if i == 0:\n",
    "                print(column.ljust(col_width), end=\"\")\n",
    "            else:\n",
    "                print(column.ljust(col_width), end=\"\")\n",
    "        print()\n",
    "    return\n"
   ],
   "id": "dd106af82cb82ea2",
   "outputs": [],
   "execution_count": 72
  },
  {
   "metadata": {},
   "cell_type": "markdown",
   "source": "### Calculate the quadratic equations",
   "id": "e1eda597953b5bff"
  },
  {
   "metadata": {
    "ExecuteTime": {
     "end_time": "2025-01-14T15:08:00.159782Z",
     "start_time": "2025-01-14T15:08:00.157660Z"
    }
   },
   "cell_type": "code",
   "source": [
    "\n",
    "def quadratics(lines, precision=2, complex=False):\n",
    "    \"\"\"\n",
    "    calculate the quadratic equations\n",
    "    :param lines: csv file content\n",
    "    :type lines: list | pd.DataFrame\n",
    "    :return: result of the quadratic equation\n",
    "    :rtype: pd.DataFrame\n",
    "    \"\"\"\n",
    "    # if is pandas DataFrame\n",
    "    result = [\"D,p,q\"]\n",
    "    for line in lines:\n",
    "        a, b, c = line.strip().split(\",\")\n",
    "        a, b, c = int(a), int(b), int(c)\n",
    "        if complex:\n",
    "            D, p, q = quadratic_complex(a, b, c, precision)\n",
    "        else:\n",
    "            D, p, q = quadratic(a, b, c, precision)\n",
    "        result.append(f\"{D},{p},{q}\")\n",
    "    return result\n"
   ],
   "id": "a464bc00cc46e5ae",
   "outputs": [],
   "execution_count": 73
  },
  {
   "metadata": {},
   "cell_type": "markdown",
   "source": "### Calculate the quadratic equation",
   "id": "3b0a5b0e9d0f340c"
  },
  {
   "metadata": {
    "ExecuteTime": {
     "end_time": "2025-01-14T15:08:00.170176Z",
     "start_time": "2025-01-14T15:08:00.168106Z"
    }
   },
   "cell_type": "code",
   "source": [
    "\n",
    "def quadratic(a, b, c, precision=2):\n",
    "    \"\"\"\n",
    "    calculate the quadratic equation\n",
    "    :param a: a\n",
    "    :type a: int\n",
    "    :param b: b\n",
    "    :type b: int\n",
    "    :param c: c\n",
    "    :type c: int\n",
    "    :param p: precision, default 2\n",
    "    :type p: int\n",
    "    :return: discriminant, result 1, result 2\n",
    "    :rtype: float, float, float\n",
    "    \"\"\"\n",
    "    D = b ** 2 - 4 * a * c\n",
    "    DD = 0\n",
    "    try:\n",
    "        if D < 0:\n",
    "            raise ValueError\n",
    "        if D > 0:\n",
    "            DD = math.sqrt(D)\n",
    "    except ValueError:\n",
    "        # print(\"No real roots\")\n",
    "        return D, 'NaN', 'NaN'\n",
    "\n",
    "    p = round((-b - DD) / (2 * a), precision)\n",
    "    q = round((-b + DD) / (2 * a), precision)\n",
    "\n",
    "    # this will turn the float to int if the float is actually an integer\n",
    "    return D, int(p) if p.is_integer() else p, int(q) if q.is_integer() else q\n"
   ],
   "id": "b35cc9ca442aa192",
   "outputs": [],
   "execution_count": 74
  },
  {
   "metadata": {},
   "cell_type": "markdown",
   "source": "### Concatenate two lists in column",
   "id": "55975328945e0143"
  },
  {
   "metadata": {
    "ExecuteTime": {
     "end_time": "2025-01-14T15:08:00.173857Z",
     "start_time": "2025-01-14T15:08:00.172294Z"
    }
   },
   "cell_type": "code",
   "source": [
    "\n",
    "def list_concat(list1, list2):\n",
    "    \"\"\"\n",
    "    concatenate two lists in column\n",
    "    :param list1: main list\n",
    "    :type list1: list\n",
    "    :param list2: list to be concatenated\n",
    "    :type list2: list\n",
    "    :return: new list\n",
    "    :rtype: list\n",
    "    \"\"\"\n",
    "    row_count = len(list1)\n",
    "    list1 = list1.copy()\n",
    "    for i in range(row_count):\n",
    "        list1[i] = str(list1[i]).strip('\\n') + ',' + str(list2[i]).strip('\\n')\n",
    "    return list1\n"
   ],
   "id": "909691068b8166fa",
   "outputs": [],
   "execution_count": 75
  },
  {
   "metadata": {},
   "cell_type": "markdown",
   "source": "### Calculate the quadratic equation with complex numbers",
   "id": "f10c91122b255b43"
  },
  {
   "metadata": {
    "ExecuteTime": {
     "end_time": "2025-01-14T15:08:00.183977Z",
     "start_time": "2025-01-14T15:08:00.181691Z"
    }
   },
   "cell_type": "code",
   "source": [
    "\n",
    "def quadratic_complex(a, b, c, precision=2):\n",
    "    \"\"\"\n",
    "    calculate the quadratic equation with complex numbers\n",
    "    :param a: a\n",
    "    :type a: int\n",
    "    :param b: b\n",
    "    :type b: int\n",
    "    :param c: c\n",
    "    :type c: int\n",
    "    :param p: precision, default 2\n",
    "    :type p: int\n",
    "    :return: discriminant, result 1, result 2\n",
    "    :rtype: float, float, float\n",
    "    \"\"\"\n",
    "    D = b ** 2 - 4 * a * c\n",
    "    DD, p, q = 0, 0, 0\n",
    "    if D < 0:\n",
    "        DD = cmath.sqrt(D)\n",
    "        p = (-b - DD) / (2 * a)\n",
    "        q = (-b + DD) / (2 * a)\n",
    "        p = round(p.real, precision)\n",
    "        q = round(q.imag, precision)\n",
    "    else:\n",
    "        DD = math.sqrt(D)\n",
    "        p = (-b - DD) / (2 * a)\n",
    "        q = (-b + DD) / (2 * a)\n",
    "        p = round(p, precision)\n",
    "        q = round(q, precision)\n",
    "\n",
    "    # this will turn the float to int if the float is actually an integer\n",
    "    return D, int(p) if p == int(p) else p, int(q) if q == int(q) else q\n"
   ],
   "id": "87602b7fa552cdf9",
   "outputs": [],
   "execution_count": 76
  },
  {
   "metadata": {},
   "cell_type": "markdown",
   "source": "## Test Functions",
   "id": "a77e9c133509b9b5"
  },
  {
   "metadata": {},
   "cell_type": "markdown",
   "source": "### Initialize the variables",
   "id": "5921814c89dc60d7"
  },
  {
   "metadata": {
    "ExecuteTime": {
     "end_time": "2025-01-14T15:08:00.187305Z",
     "start_time": "2025-01-14T15:08:00.185846Z"
    }
   },
   "cell_type": "code",
   "source": [
    "file_path = \"abc_lab5_p2_input.csv\"\n",
    "lines = read_csv(file_path)\n",
    "# the max column width in the each column\n",
    "max_col_width = get_max_col_width(lines)"
   ],
   "id": "3bdfc67c86e4c5a6",
   "outputs": [],
   "execution_count": 77
  },
  {
   "metadata": {},
   "cell_type": "markdown",
   "source": "### Output the content on the screen (raw data)",
   "id": "4dafc976d60c3efe"
  },
  {
   "metadata": {
    "ExecuteTime": {
     "end_time": "2025-01-14T15:08:00.194394Z",
     "start_time": "2025-01-14T15:08:00.192796Z"
    }
   },
   "cell_type": "code",
   "source": [
    "print_pretty_csv(lines, max_col_width)\n",
    "# \"\"\" Example Output\n",
    "# a    b    c\n",
    "# 1    5    3\n",
    "# 2    -4   2\n",
    "# 3    2    -1\n",
    "# 3    2    1\n",
    "# \"\"\"\n",
    "# deufalt col_width is 8\n",
    "# print_pretty_csv(lines)\n",
    "# \"\"\"\n",
    "# a       b       c\n",
    "# 1       5       3\n",
    "# 2       -4      2\n",
    "# 3       2       -1\n",
    "# 3       2       1\n",
    "# 1       5       3\n",
    "# \"\"\""
   ],
   "id": "8fc0bf33c4afad6b",
   "outputs": [
    {
     "name": "stdout",
     "output_type": "stream",
     "text": [
      "a     b     c     \n",
      "1     5     3     \n",
      "2     -4    2     \n",
      "3     2     -1    \n",
      "3     2     1     \n"
     ]
    }
   ],
   "execution_count": 78
  },
  {
   "metadata": {},
   "cell_type": "markdown",
   "source": "### Output the content on the screen (basic)",
   "id": "140a56cf48d8cff6"
  },
  {
   "metadata": {
    "ExecuteTime": {
     "end_time": "2025-01-20T14:51:57.246178Z",
     "start_time": "2025-01-20T14:51:57.076541Z"
    }
   },
   "cell_type": "code",
   "source": [
    "new_lines = list_concat(lines, quadratics(lines[1:], precision=3))\n",
    "print_pretty_csv(new_lines)\n",
    "# \"\"\"\n",
    "# a       b       c       D       p       q\n",
    "# 1       5       3       13      -4.303  -0.697\n",
    "# 2       -4      2       0       1       1\n",
    "# 3       2       -1      16      -1      0.333\n",
    "# 3       2       1       -8      NaN     NaN\n",
    "# \"\"\""
   ],
   "id": "fdcdf4e74bcbe05",
   "outputs": [
    {
     "ename": "NameError",
     "evalue": "name 'list_concat' is not defined",
     "output_type": "error",
     "traceback": [
      "\u001B[0;31m---------------------------------------------------------------------------\u001B[0m",
      "\u001B[0;31mNameError\u001B[0m                                 Traceback (most recent call last)",
      "Cell \u001B[0;32mIn[1], line 1\u001B[0m\n\u001B[0;32m----> 1\u001B[0m new_lines \u001B[38;5;241m=\u001B[39m list_concat(lines, quadratics(lines[\u001B[38;5;241m1\u001B[39m:], precision\u001B[38;5;241m=\u001B[39m\u001B[38;5;241m3\u001B[39m))\n\u001B[1;32m      2\u001B[0m print_pretty_csv(new_lines)\n",
      "\u001B[0;31mNameError\u001B[0m: name 'list_concat' is not defined"
     ]
    }
   ],
   "execution_count": 1
  },
  {
   "metadata": {},
   "cell_type": "markdown",
   "source": "### Output the content on the screen (advanced)",
   "id": "26240ca9f81e831c"
  },
  {
   "metadata": {
    "ExecuteTime": {
     "end_time": "2025-01-14T15:08:00.233885Z",
     "start_time": "2025-01-14T15:08:00.232095Z"
    }
   },
   "cell_type": "code",
   "source": [
    "\n",
    "new_lines_complex = list_concat(lines, quadratics(lines[1:], precision=3, complex=True))\n",
    "print_pretty_csv(new_lines_complex)\n",
    "# \"\"\"\n",
    "# a       b       c       D       p       q\n",
    "# 1       5       3       13      -4.303  -0.697\n",
    "# 2       -4      2       0       1       1\n",
    "# 3       2       -1      16      -1      0.333\n",
    "# 3       2       1       -8      -0.333  0.471\n",
    "# \"\"\""
   ],
   "id": "77aa6a1f7952ecce",
   "outputs": [
    {
     "name": "stdout",
     "output_type": "stream",
     "text": [
      "a       b       c       D       p       q       \n",
      "1       5       3       13      -4.303  -0.697  \n",
      "2       -4      2       0       1       1       \n",
      "3       2       -1      16      -1      0.333   \n",
      "3       2       1       -8      -0.333  0.471   \n"
     ]
    }
   ],
   "execution_count": 80
  },
  {
   "metadata": {},
   "cell_type": "markdown",
   "source": "### Output the content to a file with name [abc_lab5_p2_output.csv](./abc_lab5_p2_output.csv)",
   "id": "62538d2a9a57bdb"
  },
  {
   "metadata": {
    "ExecuteTime": {
     "end_time": "2025-01-14T15:08:00.312715Z",
     "start_time": "2025-01-14T15:08:00.310726Z"
    }
   },
   "cell_type": "code",
   "source": [
    "with open(\"abc_lab5_p2_output.csv\", \"w\") as f:\n",
    "    f.write(\"\\n\".join(new_lines_complex))\n"
   ],
   "id": "ccb8bd841c4529e0",
   "outputs": [],
   "execution_count": 81
  }
 ],
 "metadata": {
  "kernelspec": {
   "name": "python3",
   "language": "python",
   "display_name": "Python 3 (ipykernel)"
  }
 },
 "nbformat": 5,
 "nbformat_minor": 9
}
