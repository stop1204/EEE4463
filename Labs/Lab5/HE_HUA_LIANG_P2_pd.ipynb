{
 "cells": [
  {
   "metadata": {},
   "cell_type": "markdown",
   "source": [
    "# Problem 2\n",
    "The coefficients of several quadratic equations (𝑎𝑥 + 𝑏𝑥 + 𝑐 = 0) are given in the CSV file ‘abc_lab5_p2_input.csv’"
   ],
   "id": "b3cbf512f1ed1a3d"
  },
  {
   "metadata": {},
   "cell_type": "markdown",
   "source": "## Initial code",
   "id": "4a4a9969b7ffda03"
  },
  {
   "metadata": {
    "ExecuteTime": {
     "end_time": "2025-01-14T14:34:44.241974Z",
     "start_time": "2025-01-14T14:34:44.238495Z"
    }
   },
   "cell_type": "code",
   "source": [
    "import numpy as np\n",
    "import pandas as pd\n",
    "\n",
    "# file path\n",
    "file_path = \"abc_lab5_p2_input.csv\"\n",
    "# align the column header to left\n",
    "pd.set_option('display.colheader_justify', 'left')\n",
    "# set the precision to 3\n",
    "pd.set_option('display.precision', 3)"
   ],
   "id": "b978882a47e3e31f",
   "outputs": [],
   "execution_count": 42
  },
  {
   "metadata": {},
   "cell_type": "markdown",
   "source": "## Test the functions",
   "id": "da610c98f3e858a5"
  },
  {
   "metadata": {},
   "cell_type": "markdown",
   "source": "### Read the csv file and separate the content by comma",
   "id": "d025610dd1f7d027"
  },
  {
   "metadata": {
    "ExecuteTime": {
     "end_time": "2025-01-14T14:34:44.250881Z",
     "start_time": "2025-01-14T14:34:44.246681Z"
    }
   },
   "cell_type": "code",
   "source": [
    "# read the csv file and separate the content by comma\n",
    "df = pd.read_csv(file_path,sep=\",\")\n",
    "print(df.to_string(index=False))\n",
    "# \"\"\"\n",
    "#  a  b  c\n",
    "#  1  5  3\n",
    "#  2 -4  2\n",
    "#  3  2 -1\n",
    "#  3  2  1\n",
    "#  \"\"\""
   ],
   "id": "f63824d5eecf492f",
   "outputs": [
    {
     "name": "stdout",
     "output_type": "stream",
     "text": [
      " a  b  c\n",
      "1   5  3\n",
      "2  -4  2\n",
      "3   2 -1\n",
      "3   2  1\n"
     ]
    }
   ],
   "execution_count": 43
  },
  {
   "metadata": {},
   "cell_type": "markdown",
   "source": "### Calculate the roots of the quadratic equations",
   "id": "70ecaabe192461f4"
  },
  {
   "metadata": {
    "ExecuteTime": {
     "end_time": "2025-01-14T14:34:44.260547Z",
     "start_time": "2025-01-14T14:34:44.256276Z"
    }
   },
   "cell_type": "code",
   "source": [
    "# the discriminant\n",
    "df['D'] = df['b'] ** 2 - 4 * df['a'] * df['c']\n",
    "df['p'] = ((-df['b'] - df['D'].apply(lambda x:  x**0.5)) / (2 * df['a']))\n",
    "df['q'] = ((-df['b'] + df['D'].apply(lambda x:  x**0.5)) / (2 * df['a']))\n",
    "\n",
    "# formatting\n",
    "# catch the complex numbers and round them without the decimal point if they are integers\n",
    "df['p'] = df['p'].apply(lambda x: x.real)\n",
    "df['q'] = np.where(df['D'] >= 0,df['q'].apply(lambda x: round(x.real) if x.real.is_integer() else x.real ), df['q'].apply(lambda x: int(x.imag) if x.imag.is_integer() else x.imag))\n",
    "# print(df.to_string(index=False))\n",
    "# \"\"\"\n",
    "# a  b  c  D  p      q\n",
    "# 1   5  3 13 -4.303 -0.697\n",
    "# 2  -4  2  0  1.000  1.000\n",
    "# 3   2 -1 16 -1.000  0.333\n",
    "# 3   2  1 -8 -0.333  0.471\n",
    "# \"\"\"\n",
    "#\n",
    "# print(df.map(lambda x: f\"{x:.3f}\".ljust(10)).to_string(index=False))\n",
    "# \"\"\"\n",
    "# a          b          c          D          p          q\n",
    "# 1.000      5.000      3.000      13.000     -4.303     -0.697\n",
    "# 2.000      -4.000     2.000      0.000      1.000      1.000\n",
    "# 3.000      2.000      -1.000     16.000     -1.000     0.333\n",
    "# 3.000      2.000      1.000      -8.000     -0.333     0.471\n",
    "# \"\"\""
   ],
   "id": "30ac1a36a3ffc411",
   "outputs": [],
   "execution_count": 44
  },
  {
   "metadata": {},
   "cell_type": "markdown",
   "source": "### Output the content on the screen",
   "id": "66cbca8063243b3b"
  },
  {
   "metadata": {
    "ExecuteTime": {
     "end_time": "2025-01-14T14:34:44.268523Z",
     "start_time": "2025-01-14T14:34:44.265639Z"
    }
   },
   "cell_type": "code",
   "source": [
    "# format the output without the decimal point if the float is actually an integer\n",
    "print(df.map(lambda x: f\"{int(x)}\".ljust(10) if x == int(x) else f\"{x:.3f}\".ljust(10) ).to_string(index=False))\n",
    "# a          b          c          D          p          q\n",
    "# 1          5          3          13         -4.303     -0.697\n",
    "# 2          -4         2          0          1          1\n",
    "# 3          2          -1         16         -1         0.333\n",
    "# 3          2          1          -8         -0.333     0.471"
   ],
   "id": "9536552bb6586385",
   "outputs": [
    {
     "name": "stdout",
     "output_type": "stream",
     "text": [
      "a          b          c          D          p          q         \n",
      "1          5          3          13         -4.303     -0.697    \n",
      "2          -4         2          0          1          1         \n",
      "3          2          -1         16         -1         0.333     \n",
      "3          2          1          -8         -0.333     0.471     \n"
     ]
    }
   ],
   "execution_count": 45
  },
  {
   "metadata": {},
   "cell_type": "markdown",
   "source": "### Output the content to a CSV file with the name ‘abc_lab5_p2_output.csv’",
   "id": "ece1087e1766873f"
  },
  {
   "metadata": {
    "ExecuteTime": {
     "end_time": "2025-01-14T14:34:44.343457Z",
     "start_time": "2025-01-14T14:34:44.341130Z"
    }
   },
   "cell_type": "code",
   "source": "df.to_csv(\"abc_lab5_p2_output.csv\",index=False)",
   "id": "3cd8a7713a471587",
   "outputs": [],
   "execution_count": 46
  }
 ],
 "metadata": {
  "kernelspec": {
   "name": "python3",
   "language": "python",
   "display_name": "Python 3 (ipykernel)"
  }
 },
 "nbformat": 5,
 "nbformat_minor": 9
}
