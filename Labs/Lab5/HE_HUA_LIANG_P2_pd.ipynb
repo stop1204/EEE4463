{
 "cells": [
  {
   "metadata": {},
   "cell_type": "markdown",
   "source": [
    "# Problem 2\n",
    "Here is the link to the latest code on GitHub: [Lab 5](https://github.com/stop1204/EEE4463/tree/main/Labs/Lab5) 😎\n",
    "\n",
    "The coefficients of several quadratic equations `(𝑎𝑥 + 𝑏𝑥 + 𝑐 = 0)` are given in the CSV file ‘abc_lab5_p2_input.csv’\n",
    "\n",
    "if a = 0 , the equation `(-b ± √(b² - 4ac)) / (2a)`, will cause a division by zero error\n",
    "\n",
    "if b = 0, the equation `x = ±√(-c/a)` will be used to solve the equation\n",
    "\n",
    "I added 7 rows data to the file `abc_lab5_p2_input.csv` to test the code to handle any invalid input and unknown error\n",
    "|a|b|c|\n",
    "|-|-|-|\n",
    "|0|5|3|\n",
    "|1|0|3|\n",
    "|1|5|0|\n",
    "|\"\"|5|3|\n",
    "|1|\"\"|3|\n",
    "|1|5|\"\"|\n",
    "|na|5|3|\n"
   ],
   "id": "b3cbf512f1ed1a3d"
  },
  {
   "metadata": {},
   "cell_type": "markdown",
   "source": "## Initial code",
   "id": "4a4a9969b7ffda03"
  },
  {
   "metadata": {
    "ExecuteTime": {
     "end_time": "2025-01-20T13:16:41.285063Z",
     "start_time": "2025-01-20T13:16:41.282007Z"
    }
   },
   "cell_type": "code",
   "source": [
    "import numpy as np\n",
    "import pandas as pd\n",
    "\n",
    "# file path\n",
    "file_path = \"abc_lab5_p2_input.csv\"\n",
    "# align the column header to left\n",
    "pd.set_option('display.colheader_justify', 'left')\n",
    "# set the precision to 3\n",
    "pd.set_option('display.precision', 3)"
   ],
   "id": "b978882a47e3e31f",
   "outputs": [],
   "execution_count": 110
  },
  {
   "metadata": {},
   "cell_type": "markdown",
   "source": "## Test the functions",
   "id": "da610c98f3e858a5"
  },
  {
   "metadata": {},
   "cell_type": "markdown",
   "source": "### Read the csv file and separate the content by comma",
   "id": "d025610dd1f7d027"
  },
  {
   "metadata": {
    "ExecuteTime": {
     "end_time": "2025-01-20T13:16:41.303839Z",
     "start_time": "2025-01-20T13:16:41.295575Z"
    }
   },
   "cell_type": "code",
   "source": [
    "# read the csv file and separate the content by comma\n",
    "df = pd.read_csv(file_path,sep=\",\")\n",
    "print(df.to_string(index=False))\n",
    "# \"\"\"\n",
    "#  a  b  c\n",
    "#  1  5  3\n",
    "#  2 -4  2\n",
    "#  3  2 -1\n",
    "#  3  2  1\n",
    "#  \"\"\"\n",
    "\n",
    "# convert the data to numeric\n",
    "df = df.apply(pd.to_numeric, errors='coerce')\n",
    "# filter the rows with empty values and na\n",
    "df = df.dropna()\n",
    "# this will remove the rows with strings\n",
    "(df.map(lambda x: pd.api.types.is_number(x) ))\n",
    "# remove the a = 0, because the equation will cause a division by zero error\n",
    "df = df[df['a'] != 0]\n",
    "df\n"
   ],
   "id": "f63824d5eecf492f",
   "outputs": [
    {
     "name": "stdout",
     "output_type": "stream",
     "text": [
      "a   b    c  \n",
      "  1   5  3.0\n",
      "  2  -4  2.0\n",
      "  3   2 -1.0\n",
      "  3   2  1.0\n",
      "  0   5  3.0\n",
      "  1   0  3.0\n",
      "  1   5  0.0\n",
      "NaN   5  3.0\n",
      "  1 NaN  3.0\n",
      "  1   5  NaN\n",
      " na   5  3.0\n",
      "  1 abc  3.0\n"
     ]
    },
    {
     "data": {
      "text/plain": [
       "   a    b    c  \n",
       "0  1.0  5.0  3.0\n",
       "1  2.0 -4.0  2.0\n",
       "2  3.0  2.0 -1.0\n",
       "3  3.0  2.0  1.0\n",
       "5  1.0  0.0  3.0\n",
       "6  1.0  5.0  0.0"
      ],
      "text/html": [
       "<div>\n",
       "<style scoped>\n",
       "    .dataframe tbody tr th:only-of-type {\n",
       "        vertical-align: middle;\n",
       "    }\n",
       "\n",
       "    .dataframe tbody tr th {\n",
       "        vertical-align: top;\n",
       "    }\n",
       "\n",
       "    .dataframe thead th {\n",
       "        text-align: right;\n",
       "    }\n",
       "</style>\n",
       "<table border=\"1\" class=\"dataframe\">\n",
       "  <thead>\n",
       "    <tr style=\"text-align: left;\">\n",
       "      <th></th>\n",
       "      <th>a</th>\n",
       "      <th>b</th>\n",
       "      <th>c</th>\n",
       "    </tr>\n",
       "  </thead>\n",
       "  <tbody>\n",
       "    <tr>\n",
       "      <th>0</th>\n",
       "      <td>1.0</td>\n",
       "      <td>5.0</td>\n",
       "      <td>3.0</td>\n",
       "    </tr>\n",
       "    <tr>\n",
       "      <th>1</th>\n",
       "      <td>2.0</td>\n",
       "      <td>-4.0</td>\n",
       "      <td>2.0</td>\n",
       "    </tr>\n",
       "    <tr>\n",
       "      <th>2</th>\n",
       "      <td>3.0</td>\n",
       "      <td>2.0</td>\n",
       "      <td>-1.0</td>\n",
       "    </tr>\n",
       "    <tr>\n",
       "      <th>3</th>\n",
       "      <td>3.0</td>\n",
       "      <td>2.0</td>\n",
       "      <td>1.0</td>\n",
       "    </tr>\n",
       "    <tr>\n",
       "      <th>5</th>\n",
       "      <td>1.0</td>\n",
       "      <td>0.0</td>\n",
       "      <td>3.0</td>\n",
       "    </tr>\n",
       "    <tr>\n",
       "      <th>6</th>\n",
       "      <td>1.0</td>\n",
       "      <td>5.0</td>\n",
       "      <td>0.0</td>\n",
       "    </tr>\n",
       "  </tbody>\n",
       "</table>\n",
       "</div>"
      ]
     },
     "execution_count": 111,
     "metadata": {},
     "output_type": "execute_result"
    }
   ],
   "execution_count": 111
  },
  {
   "metadata": {},
   "cell_type": "markdown",
   "source": "### Calculate the roots of the quadratic equations",
   "id": "70ecaabe192461f4"
  },
  {
   "metadata": {
    "ExecuteTime": {
     "end_time": "2025-01-20T13:16:41.404699Z",
     "start_time": "2025-01-20T13:16:41.399792Z"
    }
   },
   "cell_type": "code",
   "source": [
    "# the discriminant\n",
    "df['D'] = df['b'] ** 2 - 4 * df['a'] * df['c']\n",
    "df['p'] = ((-df['b'] - df['D'].apply(lambda x:  x**0.5)) / (2 * df['a']))\n",
    "df['q'] = ((-df['b'] + df['D'].apply(lambda x:  x**0.5)) / (2 * df['a']))\n",
    "\n",
    "# formatting\n",
    "# catch the complex numbers and round them without the decimal point if they are integers\n",
    "df['p'] = df['p'].apply(lambda x: x.real)\n",
    "df['q'] = np.where(df['D'] >= 0,df['q'].apply(lambda x: round(x.real) if x.real.is_integer() else x.real ),\n",
    "                   df['q'].apply(lambda x: int(x.imag) if x.imag.is_integer() else x.imag))\n",
    "print(df.to_string(index=False))\n",
    "# \"\"\"\n",
    "# a  b  c  D  p      q\n",
    "# 1   5  3 13 -4.303 -0.697\n",
    "# 2  -4  2  0  1.000  1.000\n",
    "# 3   2 -1 16 -1.000  0.333\n",
    "# 3   2  1 -8 -0.333  0.471\n",
    "# \"\"\"\n",
    "#\n",
    "# print(df.map(lambda x: f\"{x:.3f}\".ljust(10)).to_string(index=False))\n",
    "# \"\"\"\n",
    "# a          b          c          D          p          q\n",
    "# 1.000      5.000      3.000      13.000     -4.303     -0.697\n",
    "# 2.000      -4.000     2.000      0.000      1.000      1.000\n",
    "# 3.000      2.000      -1.000     16.000     -1.000     0.333\n",
    "# 3.000      2.000      1.000      -8.000     -0.333     0.471\n",
    "# \"\"\""
   ],
   "id": "30ac1a36a3ffc411",
   "outputs": [
    {
     "name": "stdout",
     "output_type": "stream",
     "text": [
      " a   b    c    D     p          q    \n",
      "1.0  5.0  3.0  13.0 -4.303e+00 -0.697\n",
      "2.0 -4.0  2.0   0.0  1.000e+00  1.000\n",
      "3.0  2.0 -1.0  16.0 -1.000e+00  0.333\n",
      "3.0  2.0  1.0  -8.0 -3.333e-01  0.471\n",
      "1.0  0.0  3.0 -12.0 -1.061e-16  1.732\n",
      "1.0  5.0  0.0  25.0 -5.000e+00  0.000\n"
     ]
    }
   ],
   "execution_count": 112
  },
  {
   "metadata": {},
   "cell_type": "markdown",
   "source": "### Output the content on the screen",
   "id": "66cbca8063243b3b"
  },
  {
   "metadata": {
    "ExecuteTime": {
     "end_time": "2025-01-20T13:16:41.444542Z",
     "start_time": "2025-01-20T13:16:41.441690Z"
    }
   },
   "cell_type": "code",
   "source": [
    "# format the output without the decimal point if the float is actually an integer\n",
    "df = df.map(lambda x: f\"{int(x)}\".ljust(10) if x == int(x) else f\"{x:.3f}\".ljust(10) )\n",
    "print(df.to_string(index=False))\n",
    "# a          b          c          D          p          q\n",
    "# 1          5          3          13         -4.303     -0.697\n",
    "# 2          -4         2          0          1          1\n",
    "# 3          2          -1         16         -1         0.333\n",
    "# 3          2          1          -8         -0.333     0.471"
   ],
   "id": "9536552bb6586385",
   "outputs": [
    {
     "name": "stdout",
     "output_type": "stream",
     "text": [
      "a          b          c          D          p          q         \n",
      "1          5          3          13         -4.303     -0.697    \n",
      "2          -4         2          0          1          1         \n",
      "3          2          -1         16         -1         0.333     \n",
      "3          2          1          -8         -0.333     0.471     \n",
      "1          0          3          -12        -0.000     1.732     \n",
      "1          5          0          25         -5         0         \n"
     ]
    }
   ],
   "execution_count": 113
  },
  {
   "metadata": {},
   "cell_type": "markdown",
   "source": "### Output the content to a CSV file with the name ‘abc_lab5_p2_output.csv’",
   "id": "ece1087e1766873f"
  },
  {
   "metadata": {
    "ExecuteTime": {
     "end_time": "2025-01-20T13:16:41.473523Z",
     "start_time": "2025-01-20T13:16:41.471327Z"
    }
   },
   "cell_type": "code",
   "source": "df.to_csv(\"abc_lab5_p2_output.csv\",index=False)",
   "id": "3cd8a7713a471587",
   "outputs": [],
   "execution_count": 114
  }
 ],
 "metadata": {
  "kernelspec": {
   "name": "python3",
   "language": "python",
   "display_name": "Python 3 (ipykernel)"
  }
 },
 "nbformat": 4,
 "nbformat_minor": 9
}
