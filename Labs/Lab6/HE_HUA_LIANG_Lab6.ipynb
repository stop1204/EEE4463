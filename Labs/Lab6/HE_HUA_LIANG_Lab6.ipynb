{
 "cells": [
  {
   "cell_type": "markdown",
   "metadata": {},
   "source": [
    "# Mini-Project on Big Data (MPBD)\n",
    "### Here is the link to the latest code on GitHub: [Lab 6](https://github.com/stop1204/EEE4463/tree/main/Labs/Lab6) 😎\n",
    "\n",
    "### Requirements data:\n",
    "  pls put the `Sxx.csv` files in the `./data` folder. and the output file will be saved in the execution folder.\n",
    "- Requirement 3:\n",
    "    - V003 V013 V016\n",
    "- Requirement 4/5:\n",
    "    - V006\n",
    "- Requirement 6:\n",
    "    - V022\n",
    "\n",
    "## `Conclusion`\n",
    "when I finished the project, I found that the following feeling and conclusions:\n",
    "1. the each step need to be tested and verified, otherwise you will get the wrong result and waste time to debug.\n",
    "2. the data cleaning is very important, so know the correct and efficient cleaning method important too, like [.agg / .filter / regex]() and other parameters of method which can help you to clean the data quickly and correctly.\n",
    "3. sometimes the plot is not necessary when you parse it, but it can help you to share with the data result to other people who can quickly understand the data\n",
    "4. between the lab I leant the data result maybe wrong and need to use difference method to verify it, to double check the result is correct.\n",
    "5. the threshold filter logic is also a data cleaning method. I make the auto decrease threshold to filter the corr value, to find the best threshold to show the heatmap. this can help me to analyze the data more efficiently.\n",
    "6. and lastly, the project is very interesting and can help me to understand the data processing and analysis, and I can use the method to solve some simply data analysis problem in the future."
   ]
  },
  {
   "cell_type": "markdown",
   "metadata": {},
   "source": [
    "## Requirement 1\n",
    "### Consolidate 5 CSV files into a single CSV file"
   ]
  },
  {
   "cell_type": "code",
   "metadata": {
    "ExecuteTime": {
     "end_time": "2025-02-28T11:31:57.891441Z",
     "start_time": "2025-02-28T11:31:57.890016Z"
    }
   },
   "source": [
    "import os\n",
    "\n",
    "# requirements for the project\n",
    "import numpy as np\n",
    "import pandas as pd"
   ],
   "outputs": [],
   "execution_count": 1
  },
  {
   "cell_type": "code",
   "metadata": {
    "ExecuteTime": {
     "end_time": "2025-02-28T11:31:57.900779Z",
     "start_time": "2025-02-28T11:31:57.898827Z"
    }
   },
   "source": [
    "#show the all files in the folder\n",
    "folder_path = \"./data/\"\n",
    "files = os.listdir(folder_path)\n",
    "print(files)\n",
    "# Excepted\n",
    "# 5 files ['S4.csv', 'S5.csv', 'S2.csv', 'S3.csv', 'S1.csv']"
   ],
   "outputs": [
    {
     "name": "stdout",
     "output_type": "stream",
     "text": [
      "['S4.csv', 'S5.csv', 'S2.csv', 'S3.csv', 'S1.csv']\n"
     ]
    }
   ],
   "execution_count": 2
  },
  {
   "cell_type": "code",
   "metadata": {
    "ExecuteTime": {
     "end_time": "2025-02-28T11:31:57.964696Z",
     "start_time": "2025-02-28T11:31:57.942820Z"
    }
   },
   "source": [
    "# Read the CSV files\n",
    "df = pd.DataFrame()\n",
    "for i in range(len(files)):\n",
    "    if i == 0:\n",
    "        df = pd.read_csv(folder_path + files[i])\n",
    "    else:\n",
    "        # we don't use concat because we have the same student in different files\n",
    "        df = pd.merge(df, pd.read_csv(folder_path + files[i]), on=\"Student\", how=\"inner\")\n",
    "df.info()\n",
    "# Excepted\n",
    "# 31 modules"
   ],
   "outputs": [
    {
     "name": "stdout",
     "output_type": "stream",
     "text": [
      "<class 'pandas.core.frame.DataFrame'>\n",
      "RangeIndex: 67 entries, 0 to 66\n",
      "Data columns (total 32 columns):\n",
      " #   Column   Non-Null Count  Dtype  \n",
      "---  ------   --------------  -----  \n",
      " 0   Student  67 non-null     object \n",
      " 1   L004     67 non-null     int64  \n",
      " 2   V019     57 non-null     float64\n",
      " 3   V020     67 non-null     int64  \n",
      " 4   V021     67 non-null     int64  \n",
      " 5   V022     64 non-null     float64\n",
      " 6   V023     66 non-null     float64\n",
      " 7   V024     67 non-null     int64  \n",
      " 8   L005     67 non-null     int64  \n",
      " 9   P001     55 non-null     float64\n",
      " 10  V025     67 non-null     int64  \n",
      " 11  L002     67 non-null     int64  \n",
      " 12  V008     66 non-null     float64\n",
      " 13  V009     67 non-null     int64  \n",
      " 14  V010     67 non-null     int64  \n",
      " 15  V011     66 non-null     float64\n",
      " 16  V012     66 non-null     float64\n",
      " 17  V013     66 non-null     float64\n",
      " 18  V014     67 non-null     int64  \n",
      " 19  L003     67 non-null     int64  \n",
      " 20  V015     67 non-null     int64  \n",
      " 21  V016     67 non-null     int64  \n",
      " 22  V017     67 non-null     int64  \n",
      " 23  V018     67 non-null     int64  \n",
      " 24  L001     67 non-null     int64  \n",
      " 25  V001     67 non-null     int64  \n",
      " 26  V002     67 non-null     int64  \n",
      " 27  V003     66 non-null     float64\n",
      " 28  V004     67 non-null     int64  \n",
      " 29  V005     67 non-null     int64  \n",
      " 30  V006     67 non-null     int64  \n",
      " 31  V007     67 non-null     int64  \n",
      "dtypes: float64(9), int64(22), object(1)\n",
      "memory usage: 16.9+ KB\n"
     ]
    }
   ],
   "execution_count": 3
  },
  {
   "cell_type": "code",
   "metadata": {
    "ExecuteTime": {
     "end_time": "2025-02-28T11:31:58.039907Z",
     "start_time": "2025-02-28T11:31:58.036369Z"
    }
   },
   "source": [
    "# save the merged data to a new file\n",
    "with open(\"He_Hua_Liang.csv\", \"w\") as f:\n",
    "    df.to_csv(f, index=False)"
   ],
   "outputs": [],
   "execution_count": 4
  },
  {
   "cell_type": "markdown",
   "metadata": {},
   "source": [
    "## Requirement 2\n",
    "### Count the number of students who completed all 5 semesters"
   ]
  },
  {
   "cell_type": "code",
   "metadata": {
    "ExecuteTime": {
     "end_time": "2025-02-28T11:31:58.085203Z",
     "start_time": "2025-02-28T11:31:58.081527Z"
    }
   },
   "source": [
    "# drop the rows with NaN\n",
    "df = df.dropna()\n",
    "\n",
    "# count the number of students and confirm there are no duplicates\n",
    "print(len(df[\"Student\"].unique()))\n",
    "df[\"Student\"].count()\n",
    "# Excepted\n",
    "# 50"
   ],
   "outputs": [
    {
     "name": "stdout",
     "output_type": "stream",
     "text": [
      "50\n"
     ]
    },
    {
     "data": {
      "text/plain": [
       "50"
      ]
     },
     "execution_count": 5,
     "metadata": {},
     "output_type": "execute_result"
    }
   ],
   "execution_count": 5
  },
  {
   "cell_type": "markdown",
   "metadata": {},
   "source": [
    "## Requirement 3\n",
    "### Statistics (mean/ maximum/ minimum/ standard deviation of module marks) of the designated modules - [V003, V013, V016]()"
   ]
  },
  {
   "cell_type": "code",
   "metadata": {
    "ExecuteTime": {
     "end_time": "2025-02-28T11:31:58.108740Z",
     "start_time": "2025-02-28T11:31:58.107323Z"
    }
   },
   "source": [
    "# # test the regex and sum of the cols\n",
    "# df.filter(regex=r\"^L\\d.*\").sum(axis=1).head()"
   ],
   "outputs": [],
   "execution_count": 6
  },
  {
   "cell_type": "code",
   "metadata": {
    "ExecuteTime": {
     "end_time": "2025-02-28T11:31:58.129452Z",
     "start_time": "2025-02-28T11:31:58.127668Z"
    }
   },
   "source": [
    "# # test the statistics of all L V P modules by each student\n",
    "# # module_L = df.filter(regex=r\"^L\\d.*\")\n",
    "# # module_L\n",
    "# # df[\"L_sum\"] =  df[module_L.columns].sum(axis=1)\n",
    "# # df[\"L_mean\"] =  df[module_L.columns].mean(axis=1)\n",
    "# # df[\"L_max\"] =  df[module_L.columns].max(axis=1)\n",
    "# # df[\"L_min\"] =  df[module_L.columns].min(axis=1)\n",
    "# # df[[\"Student\",\"L_sum\"]]\n",
    "# # df\n",
    "# modules_prefix = [\"L\", \"V\", \"P\"]\n",
    "# for module in modules_prefix:\n",
    "#     module_cols = df.filter(regex=rf\"^{module}\\d.*\")\n",
    "#     df[f\"{module}_sum\"] = module_cols.sum(axis=1)\n",
    "#     df[f\"{module}_mean\"] = module_cols.mean(axis=1)\n",
    "#     df[f\"{module}_max\"] = module_cols.max(axis=1)\n",
    "#     df[f\"{module}_min\"] = module_cols.min(axis=1)\n",
    "# # df.filter(regex=\".*(m|s).*\").columns\n",
    "# # Index(['L_sum', 'L_mean', 'L_max', 'L_min', 'V_sum', 'V_mean', 'V_max', 'V_min', 'P_sum', 'P_mean', 'P_max', 'P_min'], dtype='object')\n",
    "# df.filter(regex=\".*(m|s|Student).*\").head()"
   ],
   "outputs": [],
   "execution_count": 7
  },
  {
   "cell_type": "code",
   "metadata": {
    "ExecuteTime": {
     "end_time": "2025-02-28T11:31:58.148165Z",
     "start_time": "2025-02-28T11:31:58.142491Z"
    }
   },
   "source": [
    "#\n",
    "statictics_V005 = df[[\"V003\", \"V013\", \"V016\"]].agg([\"mean\", \"max\", \"min\", \"std\"])\n",
    "# precision = 2\n",
    "statictics_V005.round(2)\n",
    "# excpected\n",
    "# mean,68.22,69.68,66.78\n",
    "# max,87.00,84.00,89.00\n",
    "# min,50.00,52.00,40.00\n",
    "# std,8.51,9.08,10.97\n"
   ],
   "outputs": [
    {
     "data": {
      "text/plain": [
       "       V003   V013   V016\n",
       "mean  69.34  61.54  66.94\n",
       "max   88.00  92.00  91.00\n",
       "min   49.00  35.00  47.00\n",
       "std    9.91  14.85  11.98"
      ],
      "text/html": [
       "<div>\n",
       "<style scoped>\n",
       "    .dataframe tbody tr th:only-of-type {\n",
       "        vertical-align: middle;\n",
       "    }\n",
       "\n",
       "    .dataframe tbody tr th {\n",
       "        vertical-align: top;\n",
       "    }\n",
       "\n",
       "    .dataframe thead th {\n",
       "        text-align: right;\n",
       "    }\n",
       "</style>\n",
       "<table border=\"1\" class=\"dataframe\">\n",
       "  <thead>\n",
       "    <tr style=\"text-align: right;\">\n",
       "      <th></th>\n",
       "      <th>V003</th>\n",
       "      <th>V013</th>\n",
       "      <th>V016</th>\n",
       "    </tr>\n",
       "  </thead>\n",
       "  <tbody>\n",
       "    <tr>\n",
       "      <th>mean</th>\n",
       "      <td>69.34</td>\n",
       "      <td>61.54</td>\n",
       "      <td>66.94</td>\n",
       "    </tr>\n",
       "    <tr>\n",
       "      <th>max</th>\n",
       "      <td>88.00</td>\n",
       "      <td>92.00</td>\n",
       "      <td>91.00</td>\n",
       "    </tr>\n",
       "    <tr>\n",
       "      <th>min</th>\n",
       "      <td>49.00</td>\n",
       "      <td>35.00</td>\n",
       "      <td>47.00</td>\n",
       "    </tr>\n",
       "    <tr>\n",
       "      <th>std</th>\n",
       "      <td>9.91</td>\n",
       "      <td>14.85</td>\n",
       "      <td>11.98</td>\n",
       "    </tr>\n",
       "  </tbody>\n",
       "</table>\n",
       "</div>"
      ]
     },
     "execution_count": 8,
     "metadata": {},
     "output_type": "execute_result"
    }
   ],
   "execution_count": 8
  },
  {
   "cell_type": "markdown",
   "metadata": {},
   "source": [
    "## Requirement 4\n",
    "### Histogram of the designated module - [V006]()"
   ]
  },
  {
   "cell_type": "code",
   "metadata": {
    "ExecuteTime": {
     "end_time": "2025-02-28T11:31:58.280654Z",
     "start_time": "2025-02-28T11:31:58.197398Z"
    }
   },
   "source": [
    "# set the plot style\n",
    "plt = df[\"V006\"].plot.hist(bins=10)\n",
    "plt.set_xticks(range(df[\"V006\"].min(), 101, 10))\n",
    "plt.set_xlabel(\"Marks\")\n",
    "plt.set_ylabel(\"Count\")\n",
    "plt.set_title(\"Histogram of V006\")\n",
    "plt.grid(True, linestyle='--', alpha=0.4, )\n",
    "# plt.set_xlim(0,100)\n",
    "# set the label on the top of the bar\n",
    "for label in plt.patches:\n",
    "    plt.annotate(int(label.get_height()), (label.get_x() + 3, label.get_height()), ha='center')"
   ],
   "outputs": [
    {
     "data": {
      "text/plain": [
       "<Figure size 640x480 with 1 Axes>"
      ],
      "image/png": "[encoded data removed]"
     },
     "metadata": {},
     "output_type": "display_data"
    }
   ],
   "execution_count": 9
  },
  {
   "cell_type": "markdown",
   "metadata": {},
   "source": [
    "## Requirement 5 (NOT needed for those who completed Requirement 1)\n",
    "### Box plot of the designated module - V???"
   ]
  },
  {
   "cell_type": "code",
   "metadata": {
    "ExecuteTime": {
     "end_time": "2025-02-28T11:31:58.902791Z",
     "start_time": "2025-02-28T11:31:58.901201Z"
    }
   },
   "source": [],
   "outputs": [],
   "execution_count": null
  },
  {
   "cell_type": "code",
   "metadata": {
    "ExecuteTime": {
     "end_time": "2025-02-28T11:31:58.977135Z",
     "start_time": "2025-02-28T11:31:58.969401Z"
    }
   },
   "source": [],
   "outputs": [],
   "execution_count": null
  },
  {
   "cell_type": "code",
   "metadata": {
    "ExecuteTime": {
     "end_time": "2025-02-28T11:31:59.030966Z",
     "start_time": "2025-02-28T11:31:59.029329Z"
    }
   },
   "source": [],
   "outputs": [],
   "execution_count": null
  },
  {
   "cell_type": "markdown",
   "metadata": {},
   "source": [
    "## Requirement 6\n",
    "### Pie chart of the designated module - [V022]()"
   ]
  },
  {
   "cell_type": "code",
   "metadata": {
    "ExecuteTime": {
     "end_time": "2025-02-28T11:31:59.112878Z",
     "start_time": "2025-02-28T11:31:59.069036Z"
    }
   },
   "source": [
    "labels_grade = [\"F\", \"D\", \"C\", \"B\", \"A\"]\n",
    "mark_ranges = [0, 40, 50, 60, 70, 100]\n",
    "\n",
    "# cut method is default to left=True , the left side is included\n",
    "total_count = df[\"V022\"].count()\n",
    "data_pie = pd.cut(df[\"V022\"], bins=mark_ranges, labels=labels_grade, right=False)\n",
    "plt = data_pie.value_counts().plot.pie(autopct=lambda x: f'{(x) * total_count / 100:.0f} \\n {x:.1f}%', figsize=(6, 6))\n",
    "plt.set_title(\"Pie chart of V022\")\n",
    "plt.set_ylabel(\"\")\n",
    "plt.legend(loc='upper right')"
   ],
   "outputs": [
    {
     "data": {
      "text/plain": [
       "<matplotlib.legend.Legend at 0x106d5e810>"
      ]
     },
     "execution_count": 10,
     "metadata": {},
     "output_type": "execute_result"
    },
    {
     "data": {
      "text/plain": [
       "<Figure size 600x600 with 1 Axes>"
      ],
      "image/png": "[encoded data removed]"
     },
     "metadata": {},
     "output_type": "display_data"
    }
   ],
   "execution_count": 10
  },
  {
   "cell_type": "markdown",
   "metadata": {},
   "source": [
    "## Requirement 7A\n",
    "### Underlying relationship 1\n",
    "### ✅ the performance of two vocational (EEE) modules [V019]() and [V023]() is highly correlated\n",
    "the corr method is use 'pearson' method to evaluate the correlation between the two modules, the result value will be betwenn -1 and 1.\n",
    "- the value close to 1 means the two modules are highly correlated.\n",
    "- the value close to -1 means the two modules are negatively correlated.\n",
    "- the value close to 0 means the two modules are not correlated.\n",
    "\n",
    "I dont set the `vmin` parameter here, so the value will be between 0 and 1."
   ]
  },
  {
   "cell_type": "code",
   "metadata": {
    "ExecuteTime": {
     "end_time": "2025-02-28T11:31:59.137763Z",
     "start_time": "2025-02-28T11:31:59.131893Z"
    }
   },
   "source": [
    "# filter out the 'max' 'min' 'mean' 'std' columns\n",
    "# corr = df.filter(regex=\"^(?!Student|._m|._s).*\").corr(method=\"pearson\")\n",
    "\n",
    "corr = df.filter(regex=\"^V0..\").corr(method=\"pearson\")  # pearson / kendall / spearman / callable\n",
    "print(corr)"
   ],
   "outputs": [
    {
     "name": "stdout",
     "output_type": "stream",
     "text": [
      "          V019      V020      V021      V022      V023      V024      V025  \\\n",
      "V019  1.000000  0.448091  0.536229  0.434081  0.905059  0.746051  0.568979   \n",
      "V020  0.448091  1.000000  0.454999  0.509713  0.422232  0.263576  0.234445   \n",
      "V021  0.536229  0.454999  1.000000  0.861233  0.500359  0.430421  0.513508   \n",
      "V022  0.434081  0.509713  0.861233  1.000000  0.416584  0.277749  0.529278   \n",
      "V023  0.905059  0.422232  0.500359  0.416584  1.000000  0.740114  0.602201   \n",
      "V024  0.746051  0.263576  0.430421  0.277749  0.740114  1.000000  0.373055   \n",
      "V025  0.568979  0.234445  0.513508  0.529278  0.602201  0.373055  1.000000   \n",
      "V008  0.377515  0.412798  0.616242  0.601768  0.480216  0.255111  0.431796   \n",
      "V009  0.346251  0.171457  0.284769  0.284586  0.408717  0.091037  0.355405   \n",
      "V010  0.291171  0.514807  0.564787  0.639570  0.332314  0.017171  0.315339   \n",
      "V011  0.385646  0.531960  0.639999  0.756219  0.450550  0.235325  0.464803   \n",
      "V012  0.425916  0.431774  0.605498  0.681328  0.475216  0.276803  0.548178   \n",
      "V013  0.287281  0.391885  0.598784  0.644895  0.428935  0.243840  0.319828   \n",
      "V014  0.258267  0.365842  0.462536  0.517754  0.409597  0.096150  0.406203   \n",
      "V015  0.375877  0.423922  0.594531  0.653953  0.390738  0.165985  0.389481   \n",
      "V016  0.553159  0.441409  0.744008  0.707050  0.490041  0.364831  0.489004   \n",
      "V017  0.354638  0.333255  0.389792  0.374602  0.332470  0.176556  0.407127   \n",
      "V018  0.461369  0.441370  0.751098  0.737536  0.395940  0.205226  0.384702   \n",
      "V001  0.287560  0.450035  0.538619  0.687286  0.354183  0.190024  0.483507   \n",
      "V002  0.445766  0.444018  0.644746  0.763432  0.476290  0.267446  0.521659   \n",
      "V003  0.342717  0.489040  0.572619  0.693521  0.342823  0.250009  0.434456   \n",
      "V004  0.255784  0.424499  0.486338  0.556788  0.386130  0.120919  0.316334   \n",
      "V005  0.297023  0.241963  0.438368  0.361190  0.230259  0.235718  0.107911   \n",
      "V006  0.247598  0.173021  0.525523  0.506372  0.271735  0.152927  0.346902   \n",
      "V007  0.159716  0.118192  0.290232  0.342780  0.122994  0.005127  0.290021   \n",
      "\n",
      "          V008      V009      V010  ...      V016      V017      V018  \\\n",
      "V019  0.377515  0.346251  0.291171  ...  0.553159  0.354638  0.461369   \n",
      "V020  0.412798  0.171457  0.514807  ...  0.441409  0.333255  0.441370   \n",
      "V021  0.616242  0.284769  0.564787  ...  0.744008  0.389792  0.751098   \n",
      "V022  0.601768  0.284586  0.639570  ...  0.707050  0.374602  0.737536   \n",
      "V023  0.480216  0.408717  0.332314  ...  0.490041  0.332470  0.395940   \n",
      "V024  0.255111  0.091037  0.017171  ...  0.364831  0.176556  0.205226   \n",
      "V025  0.431796  0.355405  0.315339  ...  0.489004  0.407127  0.384702   \n",
      "V008  1.000000  0.456404  0.499746  ...  0.432798  0.333513  0.485821   \n",
      "V009  0.456404  1.000000  0.438372  ...  0.321936  0.111202  0.325092   \n",
      "V010  0.499746  0.438372  1.000000  ...  0.546057  0.321976  0.691961   \n",
      "V011  0.739298  0.424749  0.756257  ...  0.445743  0.349583  0.682699   \n",
      "V012  0.791711  0.310356  0.446504  ...  0.445505  0.389850  0.541278   \n",
      "V013  0.553140  0.271411  0.626944  ...  0.518586  0.401525  0.626119   \n",
      "V014  0.472906  0.452617  0.656537  ...  0.504885  0.380615  0.572915   \n",
      "V015  0.493324  0.444336  0.589721  ...  0.445524  0.454671  0.582467   \n",
      "V016  0.432798  0.321936  0.546057  ...  1.000000  0.335880  0.731297   \n",
      "V017  0.333513  0.111202  0.321976  ...  0.335880  1.000000  0.342227   \n",
      "V018  0.485821  0.325092  0.691961  ...  0.731297  0.342227  1.000000   \n",
      "V001  0.728574  0.268263  0.560412  ...  0.470245  0.351281  0.532003   \n",
      "V002  0.751243  0.448471  0.563065  ...  0.522308  0.364283  0.559459   \n",
      "V003  0.586574  0.195512  0.495592  ...  0.492909  0.380100  0.524076   \n",
      "V004  0.793549  0.330594  0.606915  ...  0.356933  0.294751  0.489777   \n",
      "V005  0.245556  0.467687  0.385808  ...  0.357540  0.070532  0.374633   \n",
      "V006  0.538182  0.251996  0.359624  ...  0.214089  0.149617  0.345569   \n",
      "V007  0.369109  0.128831  0.204484  ...  0.269409  0.234466  0.191052   \n",
      "\n",
      "          V001      V002      V003      V004      V005      V006      V007  \n",
      "V019  0.287560  0.445766  0.342717  0.255784  0.297023  0.247598  0.159716  \n",
      "V020  0.450035  0.444018  0.489040  0.424499  0.241963  0.173021  0.118192  \n",
      "V021  0.538619  0.644746  0.572619  0.486338  0.438368  0.525523  0.290232  \n",
      "V022  0.687286  0.763432  0.693521  0.556788  0.361190  0.506372  0.342780  \n",
      "V023  0.354183  0.476290  0.342823  0.386130  0.230259  0.271735  0.122994  \n",
      "V024  0.190024  0.267446  0.250009  0.120919  0.235718  0.152927  0.005127  \n",
      "V025  0.483507  0.521659  0.434456  0.316334  0.107911  0.346902  0.290021  \n",
      "V008  0.728574  0.751243  0.586574  0.793549  0.245556  0.538182  0.369109  \n",
      "V009  0.268263  0.448471  0.195512  0.330594  0.467687  0.251996  0.128831  \n",
      "V010  0.560412  0.563065  0.495592  0.606915  0.385808  0.359624  0.204484  \n",
      "V011  0.752983  0.798747  0.693852  0.760322  0.258102  0.446993  0.313087  \n",
      "V012  0.702995  0.766274  0.724664  0.670731  0.229550  0.568942  0.335593  \n",
      "V013  0.563480  0.565015  0.507517  0.634409  0.326479  0.302113  0.192421  \n",
      "V014  0.591512  0.394540  0.361838  0.511488  0.324175  0.244442  0.223880  \n",
      "V015  0.502783  0.684345  0.650946  0.524797  0.369056  0.398264  0.198469  \n",
      "V016  0.470245  0.522308  0.492909  0.356933  0.357540  0.214089  0.269409  \n",
      "V017  0.351281  0.364283  0.380100  0.294751  0.070532  0.149617  0.234466  \n",
      "V018  0.532003  0.559459  0.524076  0.489777  0.374633  0.345569  0.191052  \n",
      "V001  1.000000  0.750896  0.679135  0.765378  0.216700  0.444535  0.528643  \n",
      "V002  0.750896  1.000000  0.833037  0.678847  0.290095  0.557810  0.346615  \n",
      "V003  0.679135  0.833037  1.000000  0.591909  0.194051  0.467777  0.318624  \n",
      "V004  0.765378  0.678847  0.591909  1.000000  0.093060  0.452489  0.386938  \n",
      "V005  0.216700  0.290095  0.194051  0.093060  1.000000  0.138832  0.139382  \n",
      "V006  0.444535  0.557810  0.467777  0.452489  0.138832  1.000000  0.198697  \n",
      "V007  0.528643  0.346615  0.318624  0.386938  0.139382  0.198697  1.000000  \n",
      "\n",
      "[25 rows x 25 columns]\n"
     ]
    }
   ],
   "execution_count": 11
  },
  {
   "cell_type": "markdown",
   "metadata": {},
   "source": [
    "### Heatmap of the correlation matrix showing the relationship between the [V019]() and [V023]() is proximate to [0.90]() which is the highest among the matrix"
   ]
  },
  {
   "cell_type": "code",
   "metadata": {
    "ExecuteTime": {
     "end_time": "2025-02-28T11:31:59.283676Z",
     "start_time": "2025-02-28T11:31:59.158141Z"
    }
   },
   "source": [
    "import seaborn as sns\n",
    "\n",
    "# exclude the Student column\n",
    "sns.heatmap(corr, annot=False, cmap='coolwarm', vmax=1, fmt='.3f').plot()\n"
   ],
   "outputs": [
    {
     "data": {
      "text/plain": [
       "[]"
      ]
     },
     "execution_count": 12,
     "metadata": {},
     "output_type": "execute_result"
    },
    {
     "data": {
      "text/plain": [
       "<Figure size 640x480 with 2 Axes>"
      ],
      "image/png": "[encoded data removed]"
     },
     "metadata": {},
     "output_type": "display_data"
    }
   ],
   "execution_count": 12
  },
  {
   "cell_type": "code",
   "metadata": {
    "ExecuteTime": {
     "end_time": "2025-02-28T11:31:59.299663Z",
     "start_time": "2025-02-28T11:31:59.292040Z"
    }
   },
   "source": [
    "# remove the 1.0 in the corr and show the max value\n",
    "corr = corr.mask(corr == 1.0)\n",
    "# filter the corr value > 0.8\n",
    "# corr = corr[corr > 0.8]\n",
    "max_corr = corr.max().max()\n",
    "print(max_corr)\n",
    "# Excepted\n",
    "# 0.9050589220545983\n",
    "corr.unstack().idxmax()\n",
    "# Excepted\n",
    "# ('V019', 'V023')"
   ],
   "outputs": [
    {
     "name": "stdout",
     "output_type": "stream",
     "text": [
      "0.9050589220545983\n"
     ]
    },
    {
     "data": {
      "text/plain": [
       "('V019', 'V023')"
      ]
     },
     "execution_count": 13,
     "metadata": {},
     "output_type": "execute_result"
    }
   ],
   "execution_count": 13
  },
  {
   "cell_type": "markdown",
   "metadata": {},
   "source": []
  },
  {
   "cell_type": "markdown",
   "metadata": {},
   "source": [
    "## Requirement 7B\n",
    "### Underlying relationship 2\n",
    "### ✅the performance of two vocational (EEE) modules [V011]() and [V012]()  with a language (LAN) module [L002]() is highly correlated"
   ]
  },
  {
   "cell_type": "code",
   "metadata": {
    "ExecuteTime": {
     "end_time": "2025-02-28T11:31:59.318303Z",
     "start_time": "2025-02-28T11:31:59.315293Z"
    }
   },
   "source": [
    "# Select the L and V modules\n",
    "module_L = df.filter(regex=r\"^L\\d.*\")\n",
    "module_V = df.filter(regex=r\"^V\\d.*\")\n",
    "# make the correlation matrix\n",
    "corr = df.filter(regex=r\"^(L|V)\\d.*\").corr(method=\"pearson\")\n",
    "# sort the columns\n",
    "corr_L_V = corr.loc[module_L.columns, module_V.columns]"
   ],
   "outputs": [],
   "execution_count": 14
  },
  {
   "cell_type": "markdown",
   "metadata": {},
   "source": []
  },
  {
   "cell_type": "code",
   "metadata": {
    "ExecuteTime": {
     "end_time": "2025-02-28T11:31:59.459876Z",
     "start_time": "2025-02-28T11:31:59.340936Z"
    }
   },
   "source": [
    "# filter the corr value by auto threshold, because the modules data too much\n",
    "threshold = 0\n",
    "for i in range(10).__reversed__():\n",
    "    if not np.isnan(corr_L_V[corr_L_V > i * 0.1].max().max()):\n",
    "        # print(corr_L_V[corr_L_V> i * 0.1].max().max())\n",
    "        print(\"threshold: \", i * 0.1)\n",
    "        threshold = i * 0.1\n",
    "        break\n",
    "# just show the value > threshold heatmap\n",
    "corr_L_V_filtered = corr_L_V[corr_L_V > threshold]\n",
    "# add some perameters to make the heatmap more evident\n",
    "sns.heatmap(corr_L_V_filtered, annot=False, cmap='coolwarm', vmin=0, vmax=1, fmt='.3f', linewidth=1).grid(True)"
   ],
   "outputs": [
    {
     "name": "stdout",
     "output_type": "stream",
     "text": [
      "threshold:  0.6000000000000001\n"
     ]
    },
    {
     "data": {
      "text/plain": [
       "<Figure size 640x480 with 2 Axes>"
      ],
      "image/png": "[encoded data removed]"
     },
     "metadata": {},
     "output_type": "display_data"
    }
   ],
   "execution_count": 15
  },
  {
   "cell_type": "code",
   "metadata": {
    "ExecuteTime": {
     "end_time": "2025-02-28T11:31:59.465385Z",
     "start_time": "2025-02-28T11:31:59.464053Z"
    }
   },
   "source": [],
   "outputs": [],
   "execution_count": null
  }
 ],
 "metadata": {
  "kernelspec": {
   "display_name": "Python 3 (ipykernel)",
   "language": "python",
   "name": "python3"
  },
  "language_info": {
   "codemirror_mode": {
    "name": "ipython",
    "version": 3
   },
   "file_extension": ".py",
   "mimetype": "text/x-python",
   "name": "python",
   "nbconvert_exporter": "python",
   "pygments_lexer": "ipython3",
   "version": "3.12.4"
  }
 },
 "nbformat": 4,
 "nbformat_minor": 4
}
